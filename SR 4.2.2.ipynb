{
 "cells": [
  {
   "cell_type": "code",
   "execution_count": 4,
   "id": "48e83c94-1eb6-44a7-bf6e-2165d47bb495",
   "metadata": {},
   "outputs": [],
   "source": [
    "import pandas as pd"
   ]
  },
  {
   "cell_type": "code",
   "execution_count": 3,
   "id": "22a47fa1-411e-48b6-8154-85f4cf0bdae7",
   "metadata": {},
   "outputs": [
    {
     "name": "stdout",
     "output_type": "stream",
     "text": [
      "Linear Search Result: 59\n",
      "Binary Search Result: 13503\n"
     ]
    }
   ],
   "source": [
    "def linear_search(data, target):\n",
    "    for index, row in data.iterrows():\n",
    "        if target in row.values:\n",
    "            return index\n",
    "    return None\n",
    "\n",
    "def binary_search(data, target):\n",
    "    data_sorted = data.sort_values(by='Year')  # Assuming 'Age' is the column to search\n",
    "    left, right = 0, len(data_sorted) - 1\n",
    "    while left <= right:\n",
    "        mid = (left + right) // 2\n",
    "        if data_sorted.iloc[mid]['Year'] == target:\n",
    "            return mid\n",
    "        elif data_sorted.iloc[mid]['Year'] < target:\n",
    "            left = mid + 1\n",
    "        else:\n",
    "            right = mid - 1\n",
    "    return None\n",
    "\n",
    "file_path = r\"C:\\Users\\User\\Desktop\\urbanandruralpopulation new.csv\"\n",
    "data = pd.read_csv(file_path)\n",
    "\n",
    "target_year = 2019\n",
    "linear_result = linear_search(data, target_age)\n",
    "binary_result = binary_search(data, target_age)\n",
    "\n",
    "print(\"Linear Search Result:\", linear_result)\n",
    "print(\"Binary Search Result:\", binary_result)\n"
   ]
  },
  {
   "cell_type": "code",
   "execution_count": null,
   "id": "35c287ce-a6ad-47b3-aab6-d382aef592ca",
   "metadata": {},
   "outputs": [],
   "source": []
  }
 ],
 "metadata": {
  "kernelspec": {
   "display_name": "Python 3 (ipykernel)",
   "language": "python",
   "name": "python3"
  },
  "language_info": {
   "codemirror_mode": {
    "name": "ipython",
    "version": 3
   },
   "file_extension": ".py",
   "mimetype": "text/x-python",
   "name": "python",
   "nbconvert_exporter": "python",
   "pygments_lexer": "ipython3",
   "version": "3.12.3"
  }
 },
 "nbformat": 4,
 "nbformat_minor": 5
}
