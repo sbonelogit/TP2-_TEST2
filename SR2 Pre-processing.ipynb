{
 "cells": [
  {
   "cell_type": "code",
   "execution_count": 20,
   "id": "679f2119-10bd-4c7b-b9b0-6db68c261092",
   "metadata": {},
   "outputs": [],
   "source": [
    "import pandas as pd\n",
    "from sklearn.preprocessing import StandardScaler, MinMaxScaler\n"
   ]
  },
  {
   "cell_type": "code",
   "execution_count": 15,
   "id": "c7a16cb2-3ce5-4e95-b122-06b01bde5da0",
   "metadata": {},
   "outputs": [
    {
     "name": "stdout",
     "output_type": "stream",
     "text": [
      "           country Code country  Year  Urban population Rural population\n",
      "0      Afghanistan          AFG  1960            724373          7898093\n",
      "1      Afghanistan          AFG  1961            763336          8026804\n",
      "2      Afghanistan          AFG  1962            805062          8163985\n",
      "3      Afghanistan          AFG  1963            849446          8308019\n",
      "4      Afghanistan          AFG  1964            896820          8458694\n",
      "...            ...          ...   ...               ...              ...\n",
      "14163     Zimbabwe          ZWE  2017           4755312          9995789\n",
      "14164     Zimbabwe          ZWE  2018           4848158         10204026\n",
      "14165     Zimbabwe          ZWE  2019           4945719         10408889\n",
      "14166     Zimbabwe          ZWE  2020           5052214         10617452\n",
      "14167     Zimbabwe          ZWE  2021           5166388         10827136\n",
      "\n",
      "[14168 rows x 5 columns]\n"
     ]
    }
   ],
   "source": [
    "#Path file and output data\n",
    "\n",
    "file_path = r\"C:\\Users\\User\\Desktop\\urbanandruralpopulation new.csv\"  \n",
    "data = pd.read_csv(file_path)\n",
    "print(data)\n"
   ]
  },
  {
   "cell_type": "code",
   "execution_count": 12,
   "id": "967407a9-33df-4a40-8c27-8d9b9c3732c7",
   "metadata": {},
   "outputs": [
    {
     "name": "stdout",
     "output_type": "stream",
     "text": [
      "       country Code country  Year  Urban population Rural population\n",
      "0  Afghanistan          AFG  1960            724373          7898093\n",
      "1  Afghanistan          AFG  1961            763336          8026804\n",
      "2  Afghanistan          AFG  1962            805062          8163985\n",
      "3  Afghanistan          AFG  1963            849446          8308019\n",
      "4  Afghanistan          AFG  1964            896820          8458694\n"
     ]
    }
   ],
   "source": [
    "#Output the first dataset\n",
    "\n",
    "print(data.head())"
   ]
  },
  {
   "cell_type": "code",
   "execution_count": 13,
   "id": "dad96604-50fd-46e6-b38f-4845c468befa",
   "metadata": {},
   "outputs": [
    {
     "name": "stdout",
     "output_type": "stream",
     "text": [
      "Dataset contains 14168 rows and 5 columns.\n"
     ]
    }
   ],
   "source": [
    "#Size of data\n",
    "\n",
    "print(f\"Dataset contains {data.shape[0]} rows and {data.shape[1]} columns.\")"
   ]
  },
  {
   "cell_type": "code",
   "execution_count": 14,
   "id": "bcda5b7c-c795-4071-b9b3-fb67219b339c",
   "metadata": {},
   "outputs": [
    {
     "name": "stdout",
     "output_type": "stream",
     "text": [
      "country             object\n",
      "Code country        object\n",
      "Year                 int64\n",
      "Urban population     int64\n",
      "Rural population    object\n",
      "dtype: object\n"
     ]
    }
   ],
   "source": [
    "#Data type\n",
    "\n",
    "print(data.dtypes)"
   ]
  },
  {
   "cell_type": "code",
   "execution_count": 16,
   "id": "8f123164-7146-4346-8332-add61ba374c5",
   "metadata": {},
   "outputs": [
    {
     "name": "stdout",
     "output_type": "stream",
     "text": [
      "               Year  Urban population\n",
      "count  14168.000000      1.416800e+04\n",
      "mean    1990.533879      5.097131e+07\n",
      "std       17.895499      2.442102e+08\n",
      "min     1960.000000      8.590000e+02\n",
      "25%     1975.000000      2.385732e+05\n",
      "50%     1991.000000      2.029394e+06\n",
      "75%     2006.000000      8.821502e+06\n",
      "max     2021.000000      4.454153e+09\n"
     ]
    }
   ],
   "source": [
    "#Display summary statistics\n",
    "\n",
    "print(data.describe())"
   ]
  },
  {
   "cell_type": "code",
   "execution_count": 49,
   "id": "d49cc762-16b2-4193-bb8d-b8daa8e83fad",
   "metadata": {},
   "outputs": [
    {
     "name": "stdout",
     "output_type": "stream",
     "text": [
      "Index(['Country', 'Code', 'Year', 'Population', 'Total'], dtype='object')\n"
     ]
    }
   ],
   "source": [
    "#Disply columns names\n",
    "\n",
    "print(df.columns)"
   ]
  },
  {
   "cell_type": "code",
   "execution_count": 29,
   "id": "6cb8e734-ab50-491b-a23f-563a8dcc66e9",
   "metadata": {},
   "outputs": [
    {
     "name": "stdout",
     "output_type": "stream",
     "text": [
      "country             0\n",
      "Code country        0\n",
      "Year                0\n",
      "Urban population    0\n",
      "Rural population    0\n",
      "dtype: int64\n"
     ]
    }
   ],
   "source": [
    "#Check the missing value\n",
    "\n",
    "missing_data = df.isnull().sum()\n",
    "print(missing_data)"
   ]
  },
  {
   "cell_type": "code",
   "execution_count": 45,
   "id": "8ec46549-19e4-4271-b789-84385c04eff2",
   "metadata": {},
   "outputs": [
    {
     "name": "stdout",
     "output_type": "stream",
     "text": [
      "           country Code country  Year  Urban population  Rural population\n",
      "0      Afghanistan          AFG  1960          0.000162          0.002299\n",
      "1      Afghanistan          AFG  1961          0.000171          0.002336\n",
      "2      Afghanistan          AFG  1962          0.000181          0.002376\n",
      "3      Afghanistan          AFG  1963          0.000191          0.002418\n",
      "4      Afghanistan          AFG  1964          0.000201          0.002462\n",
      "...            ...          ...   ...               ...               ...\n",
      "14163     Zimbabwe          ZWE  2017          0.001067          0.002910\n",
      "14164     Zimbabwe          ZWE  2018          0.001088          0.002970\n",
      "14165     Zimbabwe          ZWE  2019          0.001110          0.003030\n",
      "14166     Zimbabwe          ZWE  2020          0.001134          0.003091\n",
      "14167     Zimbabwe          ZWE  2021          0.001160          0.003152\n",
      "\n",
      "[14168 rows x 5 columns]\n"
     ]
    }
   ],
   "source": [
    "#Normalizing or standardizing data \n",
    "\n",
    "data['Urban population'] = data['Urban population'].replace('.', '').astype(float)\n",
    "data['Rural population'] = data['Rural population'].replace('.', '').astype(float)\n",
    "\n",
    "min_max_scaler = MinMaxScaler()\n",
    "data[['Urban population', 'Rural population']] = min_max_scaler.fit_transform(data[['Urban population', 'Rural population']])\n",
    "\n",
    "output_file_path = r\"C:\\Users\\User\\Desktop\\normalized_population.csv\"\n",
    "data.to_csv(output_file_path, index=False)\n",
    "print(data)\n"
   ]
  },
  {
   "cell_type": "code",
   "execution_count": null,
   "id": "e9eac0db-e0e5-40db-9219-75e8677fc39f",
   "metadata": {},
   "outputs": [],
   "source": []
  }
 ],
 "metadata": {
  "kernelspec": {
   "display_name": "Python 3 (ipykernel)",
   "language": "python",
   "name": "python3"
  },
  "language_info": {
   "codemirror_mode": {
    "name": "ipython",
    "version": 3
   },
   "file_extension": ".py",
   "mimetype": "text/x-python",
   "name": "python",
   "nbconvert_exporter": "python",
   "pygments_lexer": "ipython3",
   "version": "3.12.3"
  }
 },
 "nbformat": 4,
 "nbformat_minor": 5
}
